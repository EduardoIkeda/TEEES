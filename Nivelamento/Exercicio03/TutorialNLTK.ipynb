{
 "cells": [
  {
   "cell_type": "markdown",
   "id": "92470946",
   "metadata": {},
   "source": [
    "# Tutorial NLTK\n",
    "## Primeira parte: biblioteca `re` para demonstração de conceitos da PLN\n",
    "\n",
    "A biblioteca `re` está sendo usada para fazer a busca por palavras usando expressões regulares similar ao que foi visto dentro do PostGreSQL que foi usado junto ao HeidiSQL."
   ]
  },
  {
   "cell_type": "code",
   "execution_count": 1,
   "id": "b3637405",
   "metadata": {},
   "outputs": [],
   "source": [
    "import re"
   ]
  },
  {
   "cell_type": "markdown",
   "id": "fd54b657",
   "metadata": {},
   "source": [
    "Nesse caso, a expressão regular `biblio\\w*` vai encontrar todas as palavras que começam com 'biblio' e terminam com qualquer número de letras, números ou sublinhados"
   ]
  },
  {
   "cell_type": "code",
   "execution_count": null,
   "id": "f43cc3e2",
   "metadata": {},
   "outputs": [
    {
     "name": "stdout",
     "output_type": "stream",
     "text": [
      "['bibliotecário', 'biblioteca']\n"
     ]
    }
   ],
   "source": [
    "texto = 'o bibliotecário abriu a biblioteca'\n",
    "resultado = re.findall(r'biblio\\w*', texto)\n",
    "print(resultado)"
   ]
  },
  {
   "cell_type": "code",
   "execution_count": null,
   "id": "df0e5c40",
   "metadata": {},
   "outputs": [
    {
     "name": "stdout",
     "output_type": "stream",
     "text": [
      "<re.Match object; span=(4, 10), match='pessoa'>\n",
      "pessoa\n",
      "['pessoa', 'pessoa', 'pessoa']\n"
     ]
    }
   ],
   "source": [
    "texto = 'uma pessoa boa é uma pessoa de muitas pessoas'\n",
    "resultado = re.search(r'pessoa', texto)\n",
    "print(resultado)\n",
    "\n",
    "print(texto[4:10])\n",
    "\n",
    "resultado.group(0)\n",
    "\n",
    "print(re.findall(r'pessoa', texto))"
   ]
  },
  {
   "cell_type": "markdown",
   "id": "0fd80d68",
   "metadata": {},
   "source": [
    "O resultado produzido `<re.Match object; span=(4, 10), match='pessoa'>` indica que a palavra 'pessoa' começa no índice 4 e termina no índice 10 da string original. Pois cada caractere conta como um índice, começando do zero. Portanto, a letra 'p' é o índice 0, a letra 'e' é o índice 1, e assim por diante. O último índice (10) não é incluído no resultado, então a letra 'a' é o índice 9.\n",
    "\n",
    "Além disso, observe que o método `re.search()` retorna a primeira palavra encontrada que bate com a expressão regular, enquanto o `re.findall()` retorna todas em forma de array."
   ]
  },
  {
   "cell_type": "code",
   "execution_count": null,
   "id": "edec696f",
   "metadata": {},
   "outputs": [
    {
     "name": "stdout",
     "output_type": "stream",
     "text": [
      "['Algum', 'tempo', 'hesitei', 'se', 'devia', 'abrir', 'estas', 'memórias.']\n",
      "['Algum', 'tempo', 'hesitei', 'se', 'devia', 'abrir', 'estas', 'memórias', '.']\n"
     ]
    }
   ],
   "source": [
    "texto = 'Algum tempo hesitei se devia abrir estas memórias.'\n",
    "print(re.split(r'[ \\t\\n]+', texto))\n",
    "\n",
    "print(re.findall(r'\\w+(?:[-']\\w+)*|'|[-.(]+|\\S\\w*', texto))"
   ]
  },
  {
   "cell_type": "markdown",
   "id": "e1acff2b",
   "metadata": {},
   "source": [
    "O método `re.split()` divide a string em partes, usando caracteres delimitadores que são determinados por expressões regulares.\n",
    "\n",
    "No primeiro caso, temos a expressão regular `r'[ \\t\\n]+'` que corresponde a espaços em branco, tabulações ou quebras de linha gerando problemas como no caso de pontuações que acompanham palavras gerando tokens diferentes.\n",
    "\n",
    "Em seguida, temos `r'\\w+(?:[-']\\w+)*|'|[-.(]+|\\S\\w*` que acaba sendo uma expressão mais complexa que realiza o tratamento dessas outras pontuações e simbolos junto a textos."
   ]
  },
  {
   "cell_type": "code",
   "execution_count": null,
   "id": "e6f642d0",
   "metadata": {},
   "outputs": [
    {
     "name": "stdout",
     "output_type": "stream",
     "text": [
      "Número de elementos na lista:\n",
      "comida\n",
      "\n",
      "7\n",
      "Frase com espaços entre palavras a partir da lista:\n",
      "Viva pois a história\n",
      "\n",
      "Frase com pontos e vírgulas a partir da lista:\n",
      "Viva;pois;a;história\n"
     ]
    }
   ],
   "source": [
    "lista = ['Casa', ',', 'comida', 'e', 'roupa', 'lavada', '.']\n",
    "bras = ['Viva', 'pois', 'a', 'história']\n",
    "\n",
    "print('Número de elementos na lista:\\n' + lista[2] + '\\n')\n",
    "\n",
    "print(len(lista))\n",
    "\n",
    "print('Frase com espaços entre palavras a partir da lista:\\n' + ' '.join(bras) + '\\n')\n",
    "\n",
    "print('Frase com pontos e vírgulas a partir da lista:\\n' + ';'.join(bras))\n"
   ]
  },
  {
   "cell_type": "markdown",
   "id": "fb135beb",
   "metadata": {},
   "source": [
    "## Segunda parte: biblioteca `NLTK`\n",
    "\n"
   ]
  },
  {
   "cell_type": "code",
   "execution_count": null,
   "id": "509d02bf",
   "metadata": {},
   "outputs": [],
   "source": [
    "import nltk\n",
    "from nltk.corpus import machado\n",
    "from nltk.text import Text\n",
    "from nltk import bigrams\n",
    "from nltk.corpus import mac_morpho\n",
    "\n",
    "# nltk.download('popular')\n",
    "# nltk.download('machado')\n",
    "# nltk.download('punkt_tab')\n",
    "# nltk.download('rslp')\n",
    "# nltk.download('mac_morpho')"
   ]
  },
  {
   "cell_type": "code",
   "execution_count": null,
   "id": "c3925cab",
   "metadata": {},
   "outputs": [
    {
     "data": {
      "text/plain": [
       "['contos/macn001.txt',\n",
       " 'contos/macn002.txt',\n",
       " 'contos/macn003.txt',\n",
       " 'contos/macn004.txt',\n",
       " 'contos/macn005.txt',\n",
       " 'contos/macn006.txt',\n",
       " 'contos/macn007.txt',\n",
       " 'contos/macn008.txt',\n",
       " 'contos/macn009.txt',\n",
       " 'contos/macn010.txt',\n",
       " 'contos/macn011.txt',\n",
       " 'contos/macn012.txt',\n",
       " 'contos/macn013.txt',\n",
       " 'contos/macn014.txt',\n",
       " 'contos/macn015.txt',\n",
       " 'contos/macn016.txt',\n",
       " 'contos/macn017.txt',\n",
       " 'contos/macn018.txt',\n",
       " 'contos/macn019.txt',\n",
       " 'contos/macn020.txt',\n",
       " 'contos/macn021.txt',\n",
       " 'contos/macn022.txt',\n",
       " 'contos/macn023.txt',\n",
       " 'contos/macn024.txt',\n",
       " 'contos/macn025.txt',\n",
       " 'contos/macn026.txt',\n",
       " 'contos/macn027.txt',\n",
       " 'contos/macn028.txt',\n",
       " 'contos/macn029.txt',\n",
       " 'contos/macn030.txt',\n",
       " 'contos/macn031.txt',\n",
       " 'contos/macn032.txt',\n",
       " 'contos/macn033.txt',\n",
       " 'contos/macn034.txt',\n",
       " 'contos/macn035.txt',\n",
       " 'contos/macn036.txt',\n",
       " 'contos/macn037.txt',\n",
       " 'contos/macn038.txt',\n",
       " 'contos/macn039.txt',\n",
       " 'contos/macn040.txt',\n",
       " 'contos/macn041.txt',\n",
       " 'contos/macn042.txt',\n",
       " 'contos/macn043.txt',\n",
       " 'contos/macn044.txt',\n",
       " 'contos/macn045.txt',\n",
       " 'contos/macn046.txt',\n",
       " 'contos/macn047.txt',\n",
       " 'contos/macn048.txt',\n",
       " 'contos/macn049.txt',\n",
       " 'contos/macn050.txt',\n",
       " 'contos/macn051.txt',\n",
       " 'contos/macn052.txt',\n",
       " 'contos/macn053.txt',\n",
       " 'contos/macn054.txt',\n",
       " 'contos/macn055.txt',\n",
       " 'contos/macn056.txt',\n",
       " 'contos/macn057.txt',\n",
       " 'contos/macn058.txt',\n",
       " 'contos/macn059.txt',\n",
       " 'contos/macn060.txt',\n",
       " 'contos/macn061.txt',\n",
       " 'contos/macn062.txt',\n",
       " 'contos/macn063.txt',\n",
       " 'contos/macn064.txt',\n",
       " 'contos/macn065.txt',\n",
       " 'contos/macn066.txt',\n",
       " 'contos/macn067.txt',\n",
       " 'contos/macn068.txt',\n",
       " 'contos/macn069.txt',\n",
       " 'contos/macn070.txt',\n",
       " 'contos/macn071.txt',\n",
       " 'contos/macn072.txt',\n",
       " 'contos/macn073.txt',\n",
       " 'contos/macn074.txt',\n",
       " 'contos/macn075.txt',\n",
       " 'contos/macn076.txt',\n",
       " 'contos/macn077.txt',\n",
       " 'contos/macn078.txt',\n",
       " 'contos/macn079.txt',\n",
       " 'contos/macn080.txt',\n",
       " 'contos/macn081.txt',\n",
       " 'contos/macn082.txt',\n",
       " 'contos/macn083.txt',\n",
       " 'contos/macn084.txt',\n",
       " 'contos/macn085.txt',\n",
       " 'contos/macn086.txt',\n",
       " 'contos/macn087.txt',\n",
       " 'contos/macn088.txt',\n",
       " 'contos/macn089.txt',\n",
       " 'contos/macn090.txt',\n",
       " 'contos/macn091.txt',\n",
       " 'contos/macn092.txt',\n",
       " 'contos/macn093.txt',\n",
       " 'contos/macn094.txt',\n",
       " 'contos/macn095.txt',\n",
       " 'contos/macn096.txt',\n",
       " 'contos/macn097.txt',\n",
       " 'contos/macn098.txt',\n",
       " 'contos/macn099.txt',\n",
       " 'contos/macn100.txt',\n",
       " 'contos/macn101.txt',\n",
       " 'contos/macn102.txt',\n",
       " 'contos/macn103.txt',\n",
       " 'contos/macn104.txt',\n",
       " 'contos/macn105.txt',\n",
       " 'contos/macn106.txt',\n",
       " 'contos/macn107.txt',\n",
       " 'contos/macn108.txt',\n",
       " 'contos/macn109.txt',\n",
       " 'contos/macn110.txt',\n",
       " 'contos/macn111.txt',\n",
       " 'contos/macn112.txt',\n",
       " 'contos/macn113.txt',\n",
       " 'contos/macn114.txt',\n",
       " 'contos/macn115.txt',\n",
       " 'contos/macn116.txt',\n",
       " 'contos/macn117.txt',\n",
       " 'contos/macn118.txt',\n",
       " 'contos/macn119.txt',\n",
       " 'contos/macn120.txt',\n",
       " 'contos/macn121.txt',\n",
       " 'contos/macn122.txt',\n",
       " 'contos/macn123.txt',\n",
       " 'contos/macn124.txt',\n",
       " 'contos/macn125.txt',\n",
       " 'contos/macn126.txt',\n",
       " 'contos/macn127.txt',\n",
       " 'contos/macn128.txt',\n",
       " 'contos/macn129.txt',\n",
       " 'contos/macn130.txt',\n",
       " 'contos/macn131.txt',\n",
       " 'contos/macn132.txt',\n",
       " 'contos/macn133.txt',\n",
       " 'contos/macn134.txt',\n",
       " 'contos/macn135.txt',\n",
       " 'contos/macn136.txt',\n",
       " 'contos/macn137.txt',\n",
       " 'critica/mact01.txt',\n",
       " 'critica/mact02.txt',\n",
       " 'critica/mact03.txt',\n",
       " 'critica/mact04.txt',\n",
       " 'critica/mact05.txt',\n",
       " 'critica/mact06.txt',\n",
       " 'critica/mact07.txt',\n",
       " 'critica/mact08.txt',\n",
       " 'critica/mact09.txt',\n",
       " 'critica/mact10.txt',\n",
       " 'critica/mact11.txt',\n",
       " 'critica/mact12.txt',\n",
       " 'critica/mact13.txt',\n",
       " 'critica/mact14.txt',\n",
       " 'critica/mact15.txt',\n",
       " 'critica/mact16.txt',\n",
       " 'critica/mact17.txt',\n",
       " 'critica/mact18.txt',\n",
       " 'critica/mact19.txt',\n",
       " 'critica/mact20.txt',\n",
       " 'critica/mact21.txt',\n",
       " 'critica/mact22.txt',\n",
       " 'critica/mact23.txt',\n",
       " 'critica/mact24.txt',\n",
       " 'critica/mact25.txt',\n",
       " 'critica/mact26.txt',\n",
       " 'critica/mact27.txt',\n",
       " 'critica/mact28.txt',\n",
       " 'critica/mact29.txt',\n",
       " 'critica/mact30.txt',\n",
       " 'critica/mact31.txt',\n",
       " 'critica/mact32.txt',\n",
       " 'critica/mact33.txt',\n",
       " 'critica/mact34.txt',\n",
       " 'critica/mact35.txt',\n",
       " 'critica/mact36.txt',\n",
       " 'critica/mact37.txt',\n",
       " 'critica/mact38.txt',\n",
       " 'critica/mact39.txt',\n",
       " 'critica/mact40.txt',\n",
       " 'critica/mact41.txt',\n",
       " 'critica/mact42.txt',\n",
       " 'critica/mact43.txt',\n",
       " 'critica/mact44.txt',\n",
       " 'critica/mact45.txt',\n",
       " 'cronica/macr01.txt',\n",
       " 'cronica/macr02.txt',\n",
       " 'cronica/macr03.txt',\n",
       " 'cronica/macr04.txt',\n",
       " 'cronica/macr05.txt',\n",
       " 'cronica/macr06.txt',\n",
       " 'cronica/macr07.txt',\n",
       " 'cronica/macr08.txt',\n",
       " 'cronica/macr09.txt',\n",
       " 'cronica/macr10.txt',\n",
       " 'cronica/macr11.txt',\n",
       " 'cronica/macr12.txt',\n",
       " 'cronica/macr13.txt',\n",
       " 'cronica/macr14.txt',\n",
       " 'cronica/macr15.txt',\n",
       " 'cronica/macr16.txt',\n",
       " 'cronica/macr17.txt',\n",
       " 'cronica/macr18.txt',\n",
       " 'cronica/macr19.txt',\n",
       " 'cronica/macr20.txt',\n",
       " 'cronica/macr21.txt',\n",
       " 'cronica/macr22.txt',\n",
       " 'cronica/macr23.txt',\n",
       " 'cronica/macr24.txt',\n",
       " 'miscelanea/mams01.txt',\n",
       " 'miscelanea/mams02.txt',\n",
       " 'miscelanea/mams03.txt',\n",
       " 'miscelanea/mams04.txt',\n",
       " 'miscelanea/mams05.txt',\n",
       " 'miscelanea/mams06.txt',\n",
       " 'miscelanea/mams07.txt',\n",
       " 'miscelanea/mams08.txt',\n",
       " 'miscelanea/mams09.txt',\n",
       " 'miscelanea/mams10.txt',\n",
       " 'poesia/maps01.txt',\n",
       " 'poesia/maps02.txt',\n",
       " 'poesia/maps03.txt',\n",
       " 'poesia/maps04.txt',\n",
       " 'poesia/maps05.txt',\n",
       " 'poesia/maps06.txt',\n",
       " 'poesia/maps07.txt',\n",
       " 'romance/marm01.txt',\n",
       " 'romance/marm02.txt',\n",
       " 'romance/marm03.txt',\n",
       " 'romance/marm04.txt',\n",
       " 'romance/marm05.txt',\n",
       " 'romance/marm06.txt',\n",
       " 'romance/marm07.txt',\n",
       " 'romance/marm08.txt',\n",
       " 'romance/marm09.txt',\n",
       " 'romance/marm10.txt',\n",
       " 'teatro/matt01.txt',\n",
       " 'teatro/matt02.txt',\n",
       " 'teatro/matt03.txt',\n",
       " 'teatro/matt04.txt',\n",
       " 'teatro/matt05.txt',\n",
       " 'teatro/matt06.txt',\n",
       " 'teatro/matt07.txt',\n",
       " 'teatro/matt08.txt',\n",
       " 'teatro/matt09.txt',\n",
       " 'teatro/matt10.txt',\n",
       " 'traducao/matr01.txt',\n",
       " 'traducao/matr02.txt',\n",
       " 'traducao/matr03.txt']"
      ]
     },
     "execution_count": 8,
     "metadata": {},
     "output_type": "execute_result"
    }
   ],
   "source": [
    "# arquivos do Corpus\n",
    "\n",
    "machado.fileids()"
   ]
  },
  {
   "cell_type": "code",
   "execution_count": null,
   "id": "086f42ee",
   "metadata": {},
   "outputs": [
    {
     "data": {
      "text/plain": [
       "'essa anônima, ainda que não parenta, padeceu mais do que as parentas.\\nÉ verdade, padeceu mais. Não digo que se carpisse, não digo que se deixasse\\nrolar pelo chão, convulsa. Nem o meu óbito era coisa a'"
      ]
     },
     "execution_count": 9,
     "metadata": {},
     "output_type": "execute_result"
    }
   ],
   "source": [
    "# Pegar texto raw/completo\n",
    "\n",
    "raw_text = machado.raw('romance/marm05.txt')\n",
    "raw_text[5600:5800]"
   ]
  },
  {
   "cell_type": "code",
   "execution_count": null,
   "id": "83e7147c",
   "metadata": {},
   "outputs": [
    {
     "name": "stdout",
     "output_type": "stream",
     "text": [
      "['Romance', ',', 'Memórias', 'Póstumas', 'de', 'Brás', ...]\n"
     ]
    },
    {
     "data": {
      "text/plain": [
       "77098"
      ]
     },
     "execution_count": 12,
     "metadata": {},
     "output_type": "execute_result"
    }
   ],
   "source": [
    "# Buscar o texto como tokens ao invés de raw/texto completo\n",
    "\n",
    "texto1 = machado.words('romance/marm05.txt')\n",
    "print(texto1)\n",
    "\n",
    "len(texto1)"
   ]
  },
  {
   "cell_type": "code",
   "execution_count": null,
   "id": "52fb73c3",
   "metadata": {},
   "outputs": [
    {
     "name": "stdout",
     "output_type": "stream",
     "text": [
      "<Text: Romance , Memórias Póstumas de Brás Cubas ,...>\n"
     ]
    }
   ],
   "source": [
    "bras = Text(machado.words('romance/marm05.txt'))\n",
    "print(bras)"
   ]
  },
  {
   "cell_type": "code",
   "execution_count": null,
   "id": "1b4f757b",
   "metadata": {},
   "outputs": [
    {
     "name": "stdout",
     "output_type": "stream",
     "text": [
      "Displaying 25 of 138 matches:\n",
      "De pé , à cabeceira da cama , com os olhos estúpidos , a boca entreaberta , a t\n",
      "orelhas . Pela minha parte fechei os olhos e deixei - me ir à ventura . Já agor\n",
      "xões de cérebro enfermo . Como ia de olhos fechados , não via o caminho ; lembr\n",
      "gelos eternos . Com efeito , abri os olhos e vi que o meu animal galopava numa \n",
      "me apareceu então , fitando - me uns olhos rutilantes como o sol . Tudo nessa f\n",
      " mim mesmo . Então , encarei - a com olhos súplices , e pedi mais alguns anos .\n",
      "o alto de uma montanha . Inclinei os olhos a uma das vertentes , e contemplei ,\n",
      "ilhão , e , não obstante , porque os olhos do delírio são outros , eu via tudo \n",
      "cifração da eternidade . E fixei os olhos , e continuei a ver as idades , que \n",
      " esperto , concordava meu pai ; e os olhos babavam - se - lhe de orgulho , e el\n",
      "te , e , repetido o mote , cravar os olhos na testa de uma senhora , depois tos\n",
      "avrear de estômagos satisfeitos ; os olhos moles e úmidos , ou vivos e cálidos \n",
      "m estacado de orquestra , e todos os olhos se voltavam para o glosador . Quem f\n",
      " . Eu via isso , porque arrastava os olhos da compota para ele e dele para a co\n",
      " eu segui - os . O Vilaça levava nos olhos umas chispas de vinho e de volúpia .\n",
      "es ... D . Eusébia levou o lenço aos olhos . O glosador vasculhava na memória a\n",
      " estupefação imobilizou a todos ; os olhos espraiavam - se a uma e outra banda \n",
      "a aula , dava um pulo , circulava os olhos chamejantes , dizia - nos os últimos\n",
      ", deixava - se estar quieto , com os olhos espetados no ar . Uma flor , o Quinc\n",
      "u forcejava por trazer a bigode . Os olhos , vivos e resolutos , eram a minha f\n",
      " pensativa , ou levantou para mim os olhos cobiçosos . De todas porém a que me \n",
      "pouco ou nada comi , porque só tinha olhos para a dona da casa . Que gentil que\n",
      "erramava - se - lhe a felicidade dos olhos , e eu sentia - me feliz com vê - la\n",
      " meu amor ! Eu agradeci - lho com os olhos úmidos . No dia seguinte levei - lhe\n",
      "proposta . Marcela ouviu - me com os olhos no ar , sem responder logo ; como in\n"
     ]
    }
   ],
   "source": [
    "# Encontrar palavras em diferentes contextos\n",
    "\n",
    "bras.concordance('olhos')"
   ]
  },
  {
   "cell_type": "code",
   "execution_count": 25,
   "id": "06c82a22",
   "metadata": {},
   "outputs": [
    {
     "name": "stdout",
     "output_type": "stream",
     "text": [
      "já leitor lhe dizer com menos contar deixei cheguei desferirem peito\n",
      "corpo fazer porém ver casamento soltar quebrei titubear sacrifício\n"
     ]
    }
   ],
   "source": [
    "# Encontrar palavras por similaridade\n",
    "\n",
    "bras.similar('chegar')"
   ]
  },
  {
   "cell_type": "code",
   "execution_count": 27,
   "id": "b949f471",
   "metadata": {},
   "outputs": [
    {
     "name": "stdout",
     "output_type": "stream",
     "text": [
      "estúpidos; e; fechados; e; rutilantes; súplices; a; do; ,; babavam;\n",
      "na; moles; se; da; umas; .; espraiavam; chamejantes; espetados; ,;\n",
      "cobiçosos; para; ,; úmidos; no; ;; de; de; fitos; a; naquele; do; ,;\n",
      "pretos; as; estúpidos; ao; às; ...; ,; fúlgidos; de; ,; .; de; pretos;\n",
      "tão; de; para; a; chisparam; para; me; da; ,; ,; uma; no; na; para;\n",
      "se; em; .; em; .; de; ,; no; nela; tinham; ;; cintilantes; o; dos; e;\n",
      ",; de; de; dela; vermelhos; .; e; .; o; ,; constantemente; para; ,; ,;\n",
      "para; ,; ao; ,; na; na; baixos; no; mais; no; se; dela; do; no; ,;\n",
      "lampejantes; rasos; todos; ,; e; do; pelos; de; ao; .; lhe; de;\n",
      "enfermos; :; ,; .; e; da; fixos; .; fitos; ,; ,; bonitos; de; ...; .;\n",
      "de; algum; a; ;; fitos; em\n"
     ]
    }
   ],
   "source": [
    "# Encontrar palavras em contexto usando expressões regulares\n",
    "\n",
    "bras.findall('<olhos> (<.*>)')"
   ]
  },
  {
   "cell_type": "code",
   "execution_count": 28,
   "id": "29168e03",
   "metadata": {},
   "outputs": [
    {
     "name": "stdout",
     "output_type": "stream",
     "text": [
      "['a', 'à', 'ao', 'aos', 'aquela', 'aquelas', 'aquele', 'aqueles', 'aquilo', 'as']\n"
     ]
    }
   ],
   "source": [
    "# Identificar stopwords no idioma português\n",
    "\n",
    "stopwords = nltk.corpus.stopwords.words('portuguese')\n",
    "print(stopwords[:10])"
   ]
  },
  {
   "cell_type": "code",
   "execution_count": null,
   "id": "aae17067",
   "metadata": {},
   "outputs": [
    {
     "data": {
      "text/plain": [
       "[('meu', 'coração'),\n",
       " ('coração', 'está'),\n",
       " ('está', 'bem'),\n",
       " ('bem', 'machucado')]"
      ]
     },
     "execution_count": 30,
     "metadata": {},
     "output_type": "execute_result"
    }
   ],
   "source": [
    "# É possivel fazer a utilização de bigramas (duplas palavras) e n-gramas (n palavras) para encontrar palavras que aparecem juntas em um texto que podem ser relevantes para o contexto.\n",
    "list(bigrams(['meu', 'coração', 'está', 'bem', 'machucado']))\n",
    "[('meu', 'coração'), ('coração', 'está'), ('está', 'bem'),\n",
    "('bem', 'machucado')]"
   ]
  },
  {
   "cell_type": "code",
   "execution_count": null,
   "id": "2c3298d3",
   "metadata": {},
   "outputs": [
    {
     "name": "stdout",
     "output_type": "stream",
     "text": [
      "Quincas Borba; Lobo Neves; alguma coisa; Brás Cubas; meu pai; que não;\n",
      "dia seguinte; não sei; Com efeito; que era; Meu pai; alguns instantes;\n",
      "outra vez; outra coisa; por exemplo; que ele; mim mesmo; coisa\n",
      "nenhuma; mesma coisa; não era\n"
     ]
    }
   ],
   "source": [
    "# o Text consegue buscar as palavras que aparecem juntas em um texto com frequencia por meio do método collocations()\n",
    "\n",
    "bras = Text(machado.words('romance/marm05.txt'))\n",
    "bras.collocations()"
   ]
  },
  {
   "cell_type": "code",
   "execution_count": 54,
   "id": "cc9e1ca0",
   "metadata": {},
   "outputs": [
    {
     "name": "stdout",
     "output_type": "stream",
     "text": [
      "copi\n",
      "pais\n"
     ]
    }
   ],
   "source": [
    "# Stematização de palavras reduzindo-as a sua raiz\n",
    "\n",
    "stemmer = nltk.stem.RSLPStemmer()\n",
    "print(stemmer.stem(\"copiar\"))\n",
    "print(stemmer.stem(\"paisagem\"))"
   ]
  },
  {
   "cell_type": "code",
   "execution_count": 53,
   "id": "2dfff71a",
   "metadata": {},
   "outputs": [
    {
     "name": "stdout",
     "output_type": "stream",
     "text": [
      "['Estou', 'bem', ',', 'mas', 'não', 'tenho', 'certeza', '...', 'se', 'viajarei', 'amanhã', 'às', '8:30', '.']\n"
     ]
    }
   ],
   "source": [
    "# Metodo de tokenização de frases\n",
    "\n",
    "sentence = \"\"\"Estou bem, mas não tenho certeza... se viajarei amanhã às 8:30.\"\"\"\n",
    "tokens = nltk.word_tokenize(sentence)\n",
    "print(tokens)"
   ]
  },
  {
   "cell_type": "code",
   "execution_count": null,
   "id": "078ae7ed",
   "metadata": {},
   "outputs": [
    {
     "name": "stdout",
     "output_type": "stream",
     "text": [
      "[[('Jersei', 'N'), ('atinge', 'V'), ('média', 'N'), ('de', 'PREP'), ('Cr$', 'CUR'), ('1,4', 'NUM'), ('milhão', 'N'), ('em', 'PREP|+'), ('a', 'ART'), ('venda', 'N'), ('de', 'PREP|+'), ('a', 'ART'), ('Pinhal', 'NPROP'), ('em', 'PREP'), ('São', 'NPROP'), ('Paulo', 'NPROP')], [('Programe', 'V'), ('sua', 'PROADJ'), ('viagem', 'N'), ('a', 'PREP|+'), ('a', 'ART'), ('Exposição', 'NPROP'), ('Nacional', 'NPROP'), ('do', 'NPROP'), ('Zebu', 'NPROP'), (',', ','), ('que', 'PRO-KS-REL'), ('começa', 'V'), ('dia', 'N'), ('25', 'N|AP')], ...]\n"
     ]
    }
   ],
   "source": [
    "# Tabela de tokens e etiquetas (tags) do corpus Mac-Morpho\n",
    "\n",
    "sentencas_etiquetadas = mac_morpho.tagged_sents()\n",
    "print(sentencas_etiquetadas)"
   ]
  },
  {
   "cell_type": "code",
   "execution_count": 51,
   "id": "4a52d75b",
   "metadata": {},
   "outputs": [
    {
     "name": "stdout",
     "output_type": "stream",
     "text": [
      "1170095\n"
     ]
    },
    {
     "data": {
      "text/plain": [
       "'N'"
      ]
     },
     "execution_count": 51,
     "metadata": {},
     "output_type": "execute_result"
    }
   ],
   "source": [
    "tags = [tag for (word, tag) in mac_morpho.tagged_words()]\n",
    "print(len(tags))\n",
    "\n",
    "nltk.FreqDist(tags).max()\n"
   ]
  },
  {
   "cell_type": "code",
   "execution_count": null,
   "id": "cd1ad081",
   "metadata": {},
   "outputs": [
    {
     "data": {
      "text/plain": [
       "[('Estou', 'N'),\n",
       " ('bem', 'N'),\n",
       " (',', 'N'),\n",
       " ('mas', 'N'),\n",
       " ('não', 'N'),\n",
       " ('tenho', 'N'),\n",
       " ('certeza', 'N'),\n",
       " ('...', 'N'),\n",
       " ('se', 'N'),\n",
       " ('viajarei', 'N'),\n",
       " ('amanhã', 'N'),\n",
       " ('às', 'N'),\n",
       " ('8:30', 'N'),\n",
       " ('.', 'N')]"
      ]
     },
     "execution_count": 48,
     "metadata": {},
     "output_type": "execute_result"
    }
   ],
   "source": [
    "# Aplicando o etiquetador padrão do NLTK 'N'\n",
    "\n",
    "etiqPadrao = nltk.tag.DefaultTagger('N')\n",
    "etiqPadrao.tag(tokens)"
   ]
  }
 ],
 "metadata": {
  "kernelspec": {
   "display_name": ".venv (3.12.3)",
   "language": "python",
   "name": "python3"
  },
  "language_info": {
   "codemirror_mode": {
    "name": "ipython",
    "version": 3
   },
   "file_extension": ".py",
   "mimetype": "text/x-python",
   "name": "python",
   "nbconvert_exporter": "python",
   "pygments_lexer": "ipython3",
   "version": "3.12.3"
  }
 },
 "nbformat": 4,
 "nbformat_minor": 5
}
